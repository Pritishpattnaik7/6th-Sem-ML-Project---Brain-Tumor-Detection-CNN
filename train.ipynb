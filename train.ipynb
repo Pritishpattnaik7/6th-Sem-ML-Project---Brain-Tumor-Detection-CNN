{
 "cells": [
  {
   "cell_type": "code",
   "execution_count": 58,
   "id": "283f11da-f0cb-47b4-aa82-8933acac2f21",
   "metadata": {},
   "outputs": [],
   "source": [
    "#Importing the nescessar modules\n",
    "\n",
    "import cv2\n",
    "import os\n",
    "from PIL import Image\n",
    "import numpy as np\n",
    "from sklearn.model_selection import train_test_split\n",
    "import tensorflow as tf\n",
    "from tensorflow import keras\n",
    "from keras.utils.np_utils import normalize\n",
    "\n",
    "#for model building\n",
    "from keras.models import Sequential\n",
    "from keras.layers import Conv2D, MaxPooling2D, Activation, Dropout, Flatten, Dense, BatchNormalization"
   ]
  },
  {
   "cell_type": "code",
   "execution_count": 45,
   "id": "bbe13d09-0301-49b9-bad0-f6cd88b01586",
   "metadata": {},
   "outputs": [],
   "source": [
    "#initialize the path of the dataset\n",
    "\n",
    "img_dir = 'dataset/'"
   ]
  },
  {
   "cell_type": "code",
   "execution_count": 46,
   "id": "227ec3fa-1302-44d6-8864-aa338707faf8",
   "metadata": {},
   "outputs": [],
   "source": [
    "#for no\n",
    "no_tumor_images = os.listdir(img_dir + 'no/')\n",
    "\n",
    "#for yes\n",
    "yes_tumor_images = os.listdir(img_dir + 'yes/')"
   ]
  },
  {
   "cell_type": "code",
   "execution_count": 47,
   "id": "af94a105-695f-4b61-9176-9f0fdd2b4695",
   "metadata": {},
   "outputs": [
    {
     "data": {
      "text/plain": [
       "list"
      ]
     },
     "execution_count": 47,
     "metadata": {},
     "output_type": "execute_result"
    }
   ],
   "source": [
    "type(no_tumor_images) #it is in list format"
   ]
  },
  {
   "cell_type": "code",
   "execution_count": 48,
   "id": "18a53f8a-aed2-40b6-bf82-79225056288e",
   "metadata": {},
   "outputs": [],
   "source": [
    "#make 2 lists to store the image data and it's labels\n",
    "tumor_dataset = []\n",
    "tumor_label = []"
   ]
  },
  {
   "cell_type": "code",
   "execution_count": 49,
   "id": "c873b5e3-f685-44cc-a69d-4a399fe33552",
   "metadata": {},
   "outputs": [],
   "source": [
    "#read the no tumor images\n",
    "\n",
    "for i, image_name in enumerate(no_tumor_images):\n",
    "    #check if the image is a jpg image or not\n",
    "    if (image_name.split('.')[1] == 'jpg'):\n",
    "        image = cv2.imread(img_dir + 'no/' + image_name)\n",
    "        image = Image.fromarray(image, 'RGB')\n",
    "        image = image.resize((64, 64));\n",
    "        tumor_dataset.append(np.array(image))\n",
    "        tumor_label.append(0)\n",
    "        \n",
    "\n",
    "#read for yes tumor images        \n",
    "for i, image_name in enumerate(yes_tumor_images):\n",
    "    #check if the image is a jpg image or not\n",
    "    if (image_name.split('.')[1] == 'jpg'):\n",
    "        image = cv2.imread(img_dir + 'yes/' + image_name)\n",
    "        image = Image.fromarray(image, 'RGB')\n",
    "        image = image.resize((64, 64));\n",
    "        tumor_dataset.append(np.array(image))\n",
    "        tumor_label.append(1)        "
   ]
  },
  {
   "cell_type": "code",
   "execution_count": 50,
   "id": "76a916a7-9e77-4b25-871a-f391067e8cd7",
   "metadata": {},
   "outputs": [
    {
     "data": {
      "text/plain": [
       "3000"
      ]
     },
     "execution_count": 50,
     "metadata": {},
     "output_type": "execute_result"
    }
   ],
   "source": [
    "len(tumor_dataset)  #we have 3000 images"
   ]
  },
  {
   "cell_type": "code",
   "execution_count": 51,
   "id": "13674317-9734-4155-8c27-b1dfe14adfe0",
   "metadata": {},
   "outputs": [
    {
     "data": {
      "text/plain": [
       "3000"
      ]
     },
     "execution_count": 51,
     "metadata": {},
     "output_type": "execute_result"
    }
   ],
   "source": [
    "len(tumor_label)"
   ]
  },
  {
   "cell_type": "code",
   "execution_count": 52,
   "id": "3e3df04b-75d1-4a30-8782-409f0d4032a2",
   "metadata": {},
   "outputs": [],
   "source": [
    "#convert the tumor dataset and labels to numpy array\n",
    "tumor_dataset = np.array(tumor_dataset)\n",
    "tumor_label = np.array(tumor_label)"
   ]
  },
  {
   "cell_type": "code",
   "execution_count": 53,
   "id": "7e29b0f0-2bd4-4468-ac75-650a64ff056f",
   "metadata": {},
   "outputs": [],
   "source": [
    "#Divide the dataset into training and testing\n",
    "\n",
    "x_train, x_test, y_train, y_test = train_test_split(tumor_dataset, tumor_label, test_size=0.25, random_state=0)"
   ]
  },
  {
   "cell_type": "code",
   "execution_count": 54,
   "id": "deda6b7d-ddb1-4d21-9ce0-6a09c62f0fd4",
   "metadata": {},
   "outputs": [
    {
     "name": "stdout",
     "output_type": "stream",
     "text": [
      "(2250, 64, 64, 3)\n"
     ]
    }
   ],
   "source": [
    "print(x_train.shape)"
   ]
  },
  {
   "cell_type": "code",
   "execution_count": 55,
   "id": "1ad55327-d181-4bd2-b6b6-11b05f73ac15",
   "metadata": {},
   "outputs": [
    {
     "name": "stdout",
     "output_type": "stream",
     "text": [
      "(2250,)\n"
     ]
    }
   ],
   "source": [
    "print(y_train.shape)"
   ]
  },
  {
   "cell_type": "code",
   "execution_count": 56,
   "id": "ffab786d-7d1e-4224-9e94-1cfb6017ad24",
   "metadata": {},
   "outputs": [
    {
     "name": "stdout",
     "output_type": "stream",
     "text": [
      "(750, 64, 64, 3)\n"
     ]
    }
   ],
   "source": [
    "print(x_test.shape)"
   ]
  },
  {
   "cell_type": "code",
   "execution_count": 33,
   "id": "02812957-009b-4540-8864-b77ce9d42e6a",
   "metadata": {},
   "outputs": [
    {
     "name": "stdout",
     "output_type": "stream",
     "text": [
      "(750,)\n"
     ]
    }
   ],
   "source": [
    "print(y_test.shape)"
   ]
  },
  {
   "cell_type": "code",
   "execution_count": 57,
   "id": "c32fab50-b845-4b57-80c2-6c0659bbc3ca",
   "metadata": {},
   "outputs": [],
   "source": [
    "#Data Normalization\n",
    "\n",
    "x_train = normalize(x_train, axis=1)\n",
    "x_test = normalize(x_test, axis=1)"
   ]
  },
  {
   "cell_type": "code",
   "execution_count": 59,
   "id": "b07b6a89-2184-40e5-b271-a70236050061",
   "metadata": {},
   "outputs": [],
   "source": [
    "#Model Building\n",
    "\n",
    "model = Sequential()\n",
    "\n",
    "model.add(Conv2D(32, kernel_size=(2, 2), input_shape=(64, 64, 3), padding='Same'))\n",
    "model.add(Conv2D(32, kernel_size=(2, 2), activation='relu', padding='Same'))\n",
    "\n",
    "model.add(BatchNormalization())\n",
    "model.add(MaxPooling2D(pool_size=(2, 2)))\n",
    "model.add(Dropout(0.25))\n",
    "\n",
    "model.add(Conv2D(64, kernel_size = (2,2), activation ='relu', padding = 'Same'))\n",
    "model.add(Conv2D(64, kernel_size = (2,2), activation ='relu', padding = 'Same'))\n",
    "\n",
    "model.add(BatchNormalization())\n",
    "model.add(MaxPooling2D(pool_size=(2,2), strides=(2,2)))\n",
    "model.add(Dropout(0.25))\n",
    "\n",
    "model.add(Flatten())  #To convert the image to 1D array\n",
    "\n",
    "model.add(Dense(512, activation='relu'))\n",
    "model.add(Dropout(0.5))\n",
    "model.add(Dense(2, activation='softmax'))  #Output layer => (2 classes - yes / no)"
   ]
  },
  {
   "cell_type": "code",
   "execution_count": 67,
   "id": "113c2f85-6bf0-471a-9b11-e537bc6e1eaf",
   "metadata": {},
   "outputs": [],
   "source": [
    "#Model Compilation\n",
    "\n",
    "model.compile(\n",
    "    loss = 'sparse_categorical_crossentropy',\n",
    "    optimizer = 'adam',\n",
    "    metrics=['accuracy']\n",
    ")"
   ]
  },
  {
   "cell_type": "code",
   "execution_count": 68,
   "id": "999c217c-fb7f-49bb-b8ef-bae30617772e",
   "metadata": {},
   "outputs": [
    {
     "name": "stdout",
     "output_type": "stream",
     "text": [
      "Model: \"sequential_3\"\n",
      "_________________________________________________________________\n",
      "Layer (type)                 Output Shape              Param #   \n",
      "=================================================================\n",
      "conv2d_9 (Conv2D)            (None, 64, 64, 32)        416       \n",
      "_________________________________________________________________\n",
      "conv2d_10 (Conv2D)           (None, 64, 64, 32)        4128      \n",
      "_________________________________________________________________\n",
      "batch_normalization (BatchNo (None, 64, 64, 32)        128       \n",
      "_________________________________________________________________\n",
      "max_pooling2d_9 (MaxPooling2 (None, 32, 32, 32)        0         \n",
      "_________________________________________________________________\n",
      "dropout_3 (Dropout)          (None, 32, 32, 32)        0         \n",
      "_________________________________________________________________\n",
      "conv2d_11 (Conv2D)           (None, 32, 32, 64)        8256      \n",
      "_________________________________________________________________\n",
      "conv2d_12 (Conv2D)           (None, 32, 32, 64)        16448     \n",
      "_________________________________________________________________\n",
      "batch_normalization_1 (Batch (None, 32, 32, 64)        256       \n",
      "_________________________________________________________________\n",
      "max_pooling2d_10 (MaxPooling (None, 16, 16, 64)        0         \n",
      "_________________________________________________________________\n",
      "dropout_4 (Dropout)          (None, 16, 16, 64)        0         \n",
      "_________________________________________________________________\n",
      "flatten_3 (Flatten)          (None, 16384)             0         \n",
      "_________________________________________________________________\n",
      "dense_6 (Dense)              (None, 512)               8389120   \n",
      "_________________________________________________________________\n",
      "dropout_5 (Dropout)          (None, 512)               0         \n",
      "_________________________________________________________________\n",
      "dense_7 (Dense)              (None, 2)                 1026      \n",
      "=================================================================\n",
      "Total params: 8,419,778\n",
      "Trainable params: 8,419,586\n",
      "Non-trainable params: 192\n",
      "_________________________________________________________________\n"
     ]
    }
   ],
   "source": [
    "#Summary of the model\n",
    "\n",
    "model.summary()"
   ]
  },
  {
   "cell_type": "code",
   "execution_count": 69,
   "id": "32ff89ea-283a-4466-ba98-397d62c54ae0",
   "metadata": {},
   "outputs": [
    {
     "name": "stdout",
     "output_type": "stream",
     "text": [
      "Epoch 1/10\n",
      "141/141 [==============================] - 10s 48ms/step - loss: 1.6900 - accuracy: 0.7698 - val_loss: 11.2201 - val_accuracy: 0.4413\n",
      "Epoch 2/10\n",
      "141/141 [==============================] - 5s 37ms/step - loss: 0.3443 - accuracy: 0.8578 - val_loss: 17.4017 - val_accuracy: 0.4413\n",
      "Epoch 3/10\n",
      "141/141 [==============================] - 5s 37ms/step - loss: 0.2350 - accuracy: 0.8996 - val_loss: 11.2867 - val_accuracy: 0.4413\n",
      "Epoch 4/10\n",
      "141/141 [==============================] - 5s 37ms/step - loss: 0.1696 - accuracy: 0.9360 - val_loss: 1.2338 - val_accuracy: 0.8027\n",
      "Epoch 5/10\n",
      "141/141 [==============================] - 5s 39ms/step - loss: 0.1370 - accuracy: 0.9449 - val_loss: 0.2005 - val_accuracy: 0.9333\n",
      "Epoch 6/10\n",
      "141/141 [==============================] - 6s 41ms/step - loss: 0.1355 - accuracy: 0.9542 - val_loss: 0.1219 - val_accuracy: 0.9613\n",
      "Epoch 7/10\n",
      "141/141 [==============================] - 6s 40ms/step - loss: 0.1048 - accuracy: 0.9636 - val_loss: 0.1135 - val_accuracy: 0.9653\n",
      "Epoch 8/10\n",
      "141/141 [==============================] - 6s 40ms/step - loss: 0.0967 - accuracy: 0.9684 - val_loss: 0.1420 - val_accuracy: 0.9587\n",
      "Epoch 9/10\n",
      "141/141 [==============================] - 6s 40ms/step - loss: 0.0964 - accuracy: 0.9622 - val_loss: 0.0807 - val_accuracy: 0.9787\n",
      "Epoch 10/10\n",
      "141/141 [==============================] - 6s 40ms/step - loss: 0.0989 - accuracy: 0.9684 - val_loss: 0.0643 - val_accuracy: 0.9813\n"
     ]
    },
    {
     "data": {
      "text/plain": [
       "<keras.callbacks.History at 0x1f16f1783a0>"
      ]
     },
     "execution_count": 69,
     "metadata": {},
     "output_type": "execute_result"
    }
   ],
   "source": [
    "#Model Fitting / Training\n",
    "\n",
    "model.fit(x_train, y_train, epochs=10, batch_size=16, verbose=1, validation_data=(x_test, y_test))"
   ]
  },
  {
   "cell_type": "code",
   "execution_count": 70,
   "id": "4fb89988-4ad5-459f-9158-8005e87b21d2",
   "metadata": {},
   "outputs": [],
   "source": [
    "#Saving the model\n",
    "\n",
    "model.save('BrainTumorModified.h5')"
   ]
  },
  {
   "cell_type": "code",
   "execution_count": 71,
   "id": "e99173b0-932f-4b21-a459-3428f8ac01a2",
   "metadata": {},
   "outputs": [],
   "source": [
    "predictions = model.predict(x_test)"
   ]
  },
  {
   "cell_type": "code",
   "execution_count": 72,
   "id": "a3ef727f-4d80-4612-b9be-162f8cfdbaec",
   "metadata": {},
   "outputs": [
    {
     "data": {
      "text/plain": [
       "array([[9.9999607e-01, 3.8802309e-06],\n",
       "       [9.9986756e-01, 1.3237959e-04],\n",
       "       [4.3319184e-01, 5.6680816e-01],\n",
       "       ...,\n",
       "       [4.0399132e-04, 9.9959606e-01],\n",
       "       [1.0000000e+00, 1.6811008e-12],\n",
       "       [2.3283440e-04, 9.9976712e-01]], dtype=float32)"
      ]
     },
     "execution_count": 72,
     "metadata": {},
     "output_type": "execute_result"
    }
   ],
   "source": [
    "predictions"
   ]
  },
  {
   "cell_type": "code",
   "execution_count": 113,
   "id": "0b4bef45-b676-4102-90e8-4a83200262ed",
   "metadata": {},
   "outputs": [
    {
     "data": {
      "text/plain": [
       "array([9.9999607e-01, 3.8802309e-06], dtype=float32)"
      ]
     },
     "execution_count": 113,
     "metadata": {},
     "output_type": "execute_result"
    }
   ],
   "source": [
    "predictions[0]"
   ]
  },
  {
   "cell_type": "code",
   "execution_count": 114,
   "id": "f42a9dc4-85cd-4063-a7b1-684db2915ac6",
   "metadata": {},
   "outputs": [
    {
     "name": "stdout",
     "output_type": "stream",
     "text": [
      "Tumor is NOT present\n"
     ]
    }
   ],
   "source": [
    "if (predictions[0][0] < predictions[0][1]):\n",
    "    print(\"Tumor is PRESENT\")\n",
    "else:\n",
    "    print(\"Tumor is NOT present\")"
   ]
  },
  {
   "cell_type": "code",
   "execution_count": 115,
   "id": "a9c45093-678d-46ca-8ed5-ccd680b54a61",
   "metadata": {},
   "outputs": [],
   "source": [
    "import matplotlib.pyplot as plt"
   ]
  },
  {
   "cell_type": "code",
   "execution_count": 116,
   "id": "58942a5d-4613-4db8-9e90-53b552d64c4b",
   "metadata": {},
   "outputs": [
    {
     "data": {
      "text/plain": [
       "<matplotlib.image.AxesImage at 0x1f1731201f0>"
      ]
     },
     "execution_count": 116,
     "metadata": {},
     "output_type": "execute_result"
    },
    {
     "data": {
      "image/png": "[encoded data removed]",
      "text/plain": [
       "<Figure size 432x288 with 1 Axes>"
      ]
     },
     "metadata": {
      "needs_background": "light"
     },
     "output_type": "display_data"
    }
   ],
   "source": [
    "plt.imshow(x_test[0])"
   ]
  },
  {
   "cell_type": "code",
   "execution_count": 118,
   "id": "b94847c7-32d9-4633-87bf-871f13f4d120",
   "metadata": {},
   "outputs": [
    {
     "data": {
      "text/plain": [
       "(64, 64, 3)"
      ]
     },
     "execution_count": 118,
     "metadata": {},
     "output_type": "execute_result"
    }
   ],
   "source": [
    "x_test[0].shape"
   ]
  },
  {
   "cell_type": "code",
   "execution_count": 119,
   "id": "c3c2ed36-c1d6-459c-a994-14a60eab62ca",
   "metadata": {},
   "outputs": [],
   "source": [
    "test_img0 = x_test[0].reshape(1, 64, 64, 3)"
   ]
  },
  {
   "cell_type": "code",
   "execution_count": 120,
   "id": "e5d86d58-144d-46fa-8851-7cb3e9ffa1e7",
   "metadata": {},
   "outputs": [
    {
     "data": {
      "text/plain": [
       "(1, 64, 64, 3)"
      ]
     },
     "execution_count": 120,
     "metadata": {},
     "output_type": "execute_result"
    }
   ],
   "source": [
    "test_img0.shape"
   ]
  },
  {
   "cell_type": "code",
   "execution_count": 121,
   "id": "ee069f05-94ca-420b-89a5-ee6e5e4ddc06",
   "metadata": {},
   "outputs": [],
   "source": [
    "res = model.predict_on_batch(test_img0)"
   ]
  },
  {
   "cell_type": "code",
   "execution_count": 129,
   "id": "0098538d-daa5-4746-ac28-77344bb3daa2",
   "metadata": {},
   "outputs": [
    {
     "name": "stdout",
     "output_type": "stream",
     "text": [
      "[[9.9999607e-01 3.8802236e-06]]\n"
     ]
    }
   ],
   "source": [
    "print(res)"
   ]
  },
  {
   "cell_type": "code",
   "execution_count": 130,
   "id": "b1a4e857-299d-432f-84cb-cf812a5777fd",
   "metadata": {},
   "outputs": [
    {
     "data": {
      "text/plain": [
       "0.99999607"
      ]
     },
     "execution_count": 130,
     "metadata": {},
     "output_type": "execute_result"
    }
   ],
   "source": [
    "res[0][0]"
   ]
  },
  {
   "cell_type": "code",
   "execution_count": 131,
   "id": "ceea9f10-c444-440c-88b4-b705516469da",
   "metadata": {},
   "outputs": [
    {
     "data": {
      "text/plain": [
       "3.8802236e-06"
      ]
     },
     "execution_count": 131,
     "metadata": {},
     "output_type": "execute_result"
    }
   ],
   "source": [
    "res[0][1]"
   ]
  },
  {
   "cell_type": "code",
   "execution_count": 132,
   "id": "7aa1acb7-99d9-4fe2-ad38-7d8f86d2e804",
   "metadata": {},
   "outputs": [
    {
     "name": "stdout",
     "output_type": "stream",
     "text": [
      "NO tumor\n"
     ]
    }
   ],
   "source": [
    "if (res[0][0] > res[0][1]):\n",
    "    print(\"NO tumor\")\n",
    "else:\n",
    "    print(\"There is a tumor\")"
   ]
  },
  {
   "cell_type": "code",
   "execution_count": 137,
   "id": "0cd4a8fd-a1fa-4828-84bb-968c2ff78e45",
   "metadata": {},
   "outputs": [],
   "source": [
    "def getPredictions(image):\n",
    "    test_image = image.reshape(1, 64, 64, 3)\n",
    "    res = model.predict_on_batch(test_image)\n",
    "    \n",
    "    #Display the image\n",
    "    plt.imshow(image)\n",
    "    \n",
    "    if (res[0][0] > res[0][1]):\n",
    "        print(\"It is NOT a tumor\")\n",
    "    else:\n",
    "        print(\"It is a tumor\")"
   ]
  },
  {
   "cell_type": "code",
   "execution_count": 138,
   "id": "aa4c2d74-25ed-4566-bb5f-a84db62f267a",
   "metadata": {},
   "outputs": [
    {
     "name": "stdout",
     "output_type": "stream",
     "text": [
      "It is NOT a tumor\n"
     ]
    },
    {
     "data": {
      "image/png": "[encoded data removed]",
      "text/plain": [
       "<Figure size 432x288 with 1 Axes>"
      ]
     },
     "metadata": {
      "needs_background": "light"
     },
     "output_type": "display_data"
    }
   ],
   "source": [
    "getPredictions(x_test[0])"
   ]
  },
  {
   "cell_type": "code",
   "execution_count": 139,
   "id": "9cf6966b-748f-4637-877d-9f42c587fd4d",
   "metadata": {},
   "outputs": [
    {
     "name": "stdout",
     "output_type": "stream",
     "text": [
      "It is a tumor\n"
     ]
    },
    {
     "data": {
      "image/png": "[encoded data removed]",
      "text/plain": [
       "<Figure size 432x288 with 1 Axes>"
      ]
     },
     "metadata": {
      "needs_background": "light"
     },
     "output_type": "display_data"
    }
   ],
   "source": [
    "getPredictions(x_test[3])"
   ]
  },
  {
   "cell_type": "code",
   "execution_count": 141,
   "id": "fb0b12d3-c154-47f2-bf4d-884a4190cbf7",
   "metadata": {},
   "outputs": [
    {
     "name": "stdout",
     "output_type": "stream",
     "text": [
      "It is a tumor\n"
     ]
    },
    {
     "data": {
      "image/png": "[encoded data removed]",
      "text/plain": [
       "<Figure size 432x288 with 1 Axes>"
      ]
     },
     "metadata": {
      "needs_background": "light"
     },
     "output_type": "display_data"
    }
   ],
   "source": [
    "getPredictions(x_test[10])"
   ]
  },
  {
   "cell_type": "code",
   "execution_count": 144,
   "id": "81bd2bcc-5c01-4d0c-8127-041825343d62",
   "metadata": {},
   "outputs": [
    {
     "name": "stdout",
     "output_type": "stream",
     "text": [
      "It is NOT a tumor\n"
     ]
    },
    {
     "data": {
      "image/png": "[encoded data removed]",
      "text/plain": [
       "<Figure size 432x288 with 1 Axes>"
      ]
     },
     "metadata": {
      "needs_background": "light"
     },
     "output_type": "display_data"
    }
   ],
   "source": [
    "getPredictions(x_test[1])"
   ]
  },
  {
   "cell_type": "code",
   "execution_count": null,
   "id": "7f56fd10-aa6b-48a3-a37b-cc6c0cfe8cc1",
   "metadata": {},
   "outputs": [],
   "source": []
  }
 ],
 "metadata": {
  "kernelspec": {
   "display_name": "Python 3 (ipykernel)",
   "language": "python",
   "name": "python3"
  },
  "language_info": {
   "codemirror_mode": {
    "name": "ipython",
    "version": 3
   },
   "file_extension": ".py",
   "mimetype": "text/x-python",
   "name": "python",
   "nbconvert_exporter": "python",
   "pygments_lexer": "ipython3",
   "version": "3.9.12"
  }
 },
 "nbformat": 4,
 "nbformat_minor": 5
}
