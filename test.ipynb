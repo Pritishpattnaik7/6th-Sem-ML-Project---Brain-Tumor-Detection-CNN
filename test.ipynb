{
 "cells": [
  {
   "cell_type": "code",
   "execution_count": 84,
   "id": "93c981a7-85fe-4b12-bb0f-861183ecb44d",
   "metadata": {},
   "outputs": [],
   "source": [
    "import cv2\n",
    "import tensorflow as tf\n",
    "from tensorflow import keras\n",
    "from keras.models import load_model\n",
    "import matplotlib.pyplot as plt\n",
    "from PIL import Image\n",
    "import numpy as np\n",
    "import os"
   ]
  },
  {
   "cell_type": "code",
   "execution_count": 85,
   "id": "f841c4f5-d21d-4533-9879-acba565a6665",
   "metadata": {},
   "outputs": [],
   "source": [
    "model = load_model('BrainTumorModified.h5')"
   ]
  },
  {
   "cell_type": "code",
   "execution_count": 72,
   "id": "8b58e39d-9147-4856-9526-d2805bdaaf61",
   "metadata": {},
   "outputs": [],
   "source": [
    "#Path initialization\n",
    "\n",
    "test_image_dir = \"C:/Users/KIIT/OneDrive/Desktop/ML Project 6th Sem/ForPredict/\""
   ]
  },
  {
   "cell_type": "code",
   "execution_count": 73,
   "id": "cd7d3be7-f44a-4bb8-8455-da2f698cf645",
   "metadata": {},
   "outputs": [],
   "source": [
    "myTestData = []\n",
    "new_myTestData = []"
   ]
  },
  {
   "cell_type": "code",
   "execution_count": 74,
   "id": "0d6c4903-4ff9-45c2-bd83-377998b61cf6",
   "metadata": {},
   "outputs": [],
   "source": [
    "for images in os.listdir(test_image_dir):\n",
    "    if (images.endswith(\".jpg\")):\n",
    "        test_img = cv2.imread(test_image_dir + images)\n",
    "        img = Image.fromarray(test_img, 'RGB')\n",
    "        img = img.resize((64, 64))\n",
    "        new_myTestData.append(np.array(img))"
   ]
  },
  {
   "cell_type": "code",
   "execution_count": 65,
   "id": "b9ec275c-608b-44c6-b3d1-c763de704279",
   "metadata": {},
   "outputs": [
    {
     "data": {
      "text/plain": [
       "60"
      ]
     },
     "execution_count": 65,
     "metadata": {},
     "output_type": "execute_result"
    }
   ],
   "source": [
    "len(myTestData)"
   ]
  },
  {
   "cell_type": "code",
   "execution_count": 68,
   "id": "17c9b5bb-b3f6-4b28-b82d-f7ef9c2b9183",
   "metadata": {},
   "outputs": [
    {
     "name": "stdout",
     "output_type": "stream",
     "text": [
      "(64, 64)\n"
     ]
    }
   ],
   "source": [
    "print(myTestData[59].shape)"
   ]
  },
  {
   "cell_type": "code",
   "execution_count": 75,
   "id": "d69a1c75-699d-4ca5-867e-81b46059c95d",
   "metadata": {},
   "outputs": [
    {
     "data": {
      "text/plain": [
       "60"
      ]
     },
     "execution_count": 75,
     "metadata": {},
     "output_type": "execute_result"
    }
   ],
   "source": [
    "len(new_myTestData)"
   ]
  },
  {
   "cell_type": "code",
   "execution_count": 76,
   "id": "97bd604a-6f8f-46e4-8e61-df77e515cfc8",
   "metadata": {},
   "outputs": [
    {
     "name": "stdout",
     "output_type": "stream",
     "text": [
      "[[[0 0 0]\n",
      "  [0 0 0]\n",
      "  [0 0 0]\n",
      "  ...\n",
      "  [0 0 0]\n",
      "  [0 0 0]\n",
      "  [0 0 0]]\n",
      "\n",
      " [[0 0 0]\n",
      "  [0 0 0]\n",
      "  [0 0 0]\n",
      "  ...\n",
      "  [0 0 0]\n",
      "  [0 0 0]\n",
      "  [0 0 0]]\n",
      "\n",
      " [[0 0 0]\n",
      "  [0 0 0]\n",
      "  [0 0 0]\n",
      "  ...\n",
      "  [0 0 0]\n",
      "  [0 0 0]\n",
      "  [0 0 0]]\n",
      "\n",
      " ...\n",
      "\n",
      " [[0 0 0]\n",
      "  [0 0 0]\n",
      "  [0 0 0]\n",
      "  ...\n",
      "  [0 0 0]\n",
      "  [0 0 0]\n",
      "  [0 0 0]]\n",
      "\n",
      " [[0 0 0]\n",
      "  [0 0 0]\n",
      "  [0 0 0]\n",
      "  ...\n",
      "  [0 0 0]\n",
      "  [0 0 0]\n",
      "  [0 0 0]]\n",
      "\n",
      " [[0 0 0]\n",
      "  [0 0 0]\n",
      "  [0 0 0]\n",
      "  ...\n",
      "  [0 0 0]\n",
      "  [0 0 0]\n",
      "  [0 0 0]]]\n"
     ]
    }
   ],
   "source": [
    "print(new_myTestData[0])"
   ]
  },
  {
   "cell_type": "code",
   "execution_count": 89,
   "id": "632266cd-b4e0-45ad-a6f7-ce5b296ffba2",
   "metadata": {},
   "outputs": [
    {
     "data": {
      "text/plain": [
       "<matplotlib.image.AxesImage at 0x124cfc0a640>"
      ]
     },
     "execution_count": 89,
     "metadata": {},
     "output_type": "execute_result"
    },
    {
     "data": {
      "image/png": "[encoded data removed]",
      "text/plain": [
       "<Figure size 432x288 with 1 Axes>"
      ]
     },
     "metadata": {
      "needs_background": "light"
     },
     "output_type": "display_data"
    }
   ],
   "source": [
    "plt.imshow(new_myTestData[58])"
   ]
  },
  {
   "cell_type": "code",
   "execution_count": 78,
   "id": "318cf960-6211-4e40-88da-ba2aab634218",
   "metadata": {},
   "outputs": [
    {
     "name": "stdout",
     "output_type": "stream",
     "text": [
      "(64, 64, 3)\n"
     ]
    }
   ],
   "source": [
    "print(new_myTestData[0].shape)"
   ]
  },
  {
   "cell_type": "code",
   "execution_count": 90,
   "id": "1a471e10-e5c9-4b02-9d36-0f8e78194849",
   "metadata": {},
   "outputs": [
    {
     "data": {
      "text/plain": [
       "array([[1., 0.]], dtype=float32)"
      ]
     },
     "execution_count": 90,
     "metadata": {},
     "output_type": "execute_result"
    }
   ],
   "source": [
    "test58 = new_myTestData[58].reshape(1, 64, 64, 3)\n",
    "model.predict_on_batch(test58)"
   ]
  },
  {
   "cell_type": "code",
   "execution_count": 80,
   "id": "70eee65d-3207-4e01-9043-204100717244",
   "metadata": {},
   "outputs": [],
   "source": [
    "def getPredictions(image):\n",
    "    test_image = image.reshape(1, 64, 64, 3)\n",
    "    res = model.predict_on_batch(test_image)\n",
    "    \n",
    "    #Display the image\n",
    "    plt.imshow(image)\n",
    "    \n",
    "    "
   ]
  },
  {
   "cell_type": "code",
   "execution_count": 82,
   "id": "021af6ce-1aea-4992-aeee-4b5582d3c5f1",
   "metadata": {},
   "outputs": [
    {
     "name": "stdout",
     "output_type": "stream",
     "text": [
      "It is NOT a tumor\n"
     ]
    },
    {
     "data": {
      "image/png": "[encoded data removed]",
      "text/plain": [
       "<Figure size 432x288 with 1 Axes>"
      ]
     },
     "metadata": {
      "needs_background": "light"
     },
     "output_type": "display_data"
    }
   ],
   "source": [
    "getPredictions(new_myTestData[0])"
   ]
  },
  {
   "cell_type": "code",
   "execution_count": 83,
   "id": "3fc36ddf-d2da-47d1-9158-43bcbae860d4",
   "metadata": {},
   "outputs": [
    {
     "name": "stdout",
     "output_type": "stream",
     "text": [
      "It is NOT a tumor\n"
     ]
    },
    {
     "data": {
      "image/png": "[encoded data removed]",
      "text/plain": [
       "<Figure size 432x288 with 1 Axes>"
      ]
     },
     "metadata": {
      "needs_background": "light"
     },
     "output_type": "display_data"
    }
   ],
   "source": []
  },
  {
   "cell_type": "code",
   "execution_count": null,
   "id": "58e9fa46-8e45-4d30-a2ab-994efb70e85b",
   "metadata": {},
   "outputs": [],
   "source": []
  }
 ],
 "metadata": {
  "kernelspec": {
   "display_name": "Python 3 (ipykernel)",
   "language": "python",
   "name": "python3"
  },
  "language_info": {
   "codemirror_mode": {
    "name": "ipython",
    "version": 3
   },
   "file_extension": ".py",
   "mimetype": "text/x-python",
   "name": "python",
   "nbconvert_exporter": "python",
   "pygments_lexer": "ipython3",
   "version": "3.9.12"
  }
 },
 "nbformat": 4,
 "nbformat_minor": 5
}
